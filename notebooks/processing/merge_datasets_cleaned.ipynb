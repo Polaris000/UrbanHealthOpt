{
 "cells": [
  {
   "cell_type": "markdown",
   "metadata": {},
   "source": [
    "## This notebook merges the datasets from 2013-21 , each dataset contains geographic data and pop, age, income columns"
   ]
  },
  {
   "cell_type": "code",
   "execution_count": null,
   "metadata": {},
   "outputs": [],
   "source": [
    "import pandas as pd "
   ]
  },
  {
   "cell_type": "code",
   "execution_count": 25,
   "metadata": {},
   "outputs": [],
   "source": [
    "df_2013 = pd.read_excel('pop_age_income_2013.xlsx')\n",
    "df_2014 = pd.read_excel('pop_age_income_2014.xlsx')\n",
    "df_2014_d = df_2014.drop(columns = ['INTPTLAT10','INTPTLON10','ALAND10'])\n",
    "merge_13_14 = pd.merge(df_2013,df_2014_d,on=['COUNTYFP10','TRACTCE10','BLOCKCE10'])"
   ]
  },
  {
   "cell_type": "code",
   "execution_count": 26,
   "metadata": {},
   "outputs": [],
   "source": [
    "df_2015 = pd.read_excel('pop_age_income_2015.xlsx').drop(columns = ['INTPTLAT10','INTPTLON10','ALAND10'])"
   ]
  },
  {
   "cell_type": "code",
   "execution_count": 27,
   "metadata": {},
   "outputs": [],
   "source": [
    "df_2016 = pd.read_excel('pop_age_income_2016.xlsx').drop(columns = ['INTPTLAT10','INTPTLON10','ALAND10'])\n",
    "df_2017 = pd.read_excel('pop_age_income_2017.xlsx').drop(columns = ['INTPTLAT10','INTPTLON10','ALAND10'])\n"
   ]
  },
  {
   "cell_type": "code",
   "execution_count": 28,
   "metadata": {},
   "outputs": [],
   "source": [
    "merge_head = pd.merge(merge_13_14,df_2015,on=['COUNTYFP10','TRACTCE10','BLOCKCE10'])"
   ]
  },
  {
   "cell_type": "code",
   "execution_count": 29,
   "metadata": {},
   "outputs": [],
   "source": [
    "merge_head = pd.merge(merge_head,df_2016,on=['COUNTYFP10','TRACTCE10','BLOCKCE10'])"
   ]
  },
  {
   "cell_type": "code",
   "execution_count": 30,
   "metadata": {},
   "outputs": [],
   "source": [
    "df_2018 = pd.read_excel('pop_age_income_2018.xlsx').drop(columns = ['INTPTLAT10','INTPTLON10','ALAND10'])"
   ]
  },
  {
   "cell_type": "code",
   "execution_count": 31,
   "metadata": {},
   "outputs": [],
   "source": [
    "merge_head = pd.merge(merge_head,df_2017,on=['COUNTYFP10','TRACTCE10','BLOCKCE10'])"
   ]
  },
  {
   "cell_type": "code",
   "execution_count": 32,
   "metadata": {},
   "outputs": [],
   "source": [
    "merge_head = pd.merge(merge_head,df_2018,on=['COUNTYFP10','TRACTCE10','BLOCKCE10'])"
   ]
  },
  {
   "cell_type": "code",
   "execution_count": 33,
   "metadata": {},
   "outputs": [],
   "source": [
    "df_2019 = pd.read_excel('pop_age_income_2019.xlsx').drop(columns = ['INTPTLAT10','INTPTLON10','ALAND10'])"
   ]
  },
  {
   "cell_type": "code",
   "execution_count": 34,
   "metadata": {},
   "outputs": [],
   "source": [
    "merge_head = pd.merge(merge_head,df_2019,on=['COUNTYFP10','TRACTCE10','BLOCKCE10'])"
   ]
  },
  {
   "cell_type": "code",
   "execution_count": 35,
   "metadata": {},
   "outputs": [],
   "source": [
    "merge_head_d = merge_head.drop(columns = ['INTPTLAT10','INTPTLON10','ALAND10'])"
   ]
  },
  {
   "cell_type": "code",
   "execution_count": 37,
   "metadata": {},
   "outputs": [],
   "source": [
    "df_2020 = pd.read_excel('pop_age_income_test_2020.xlsx')\n",
    "df_2021 = pd.read_excel('pop_age_income_2021.xlsx').drop(columns = ['INTPTLAT20','INTPTLON20','ALAND20'])"
   ]
  },
  {
   "cell_type": "code",
   "execution_count": 38,
   "metadata": {},
   "outputs": [],
   "source": [
    "merged_final = pd.merge(df_2020,merge_head_d,left_on=['COUNTYFP20','TRACTCE20','BLOCKCE20'],right_on=['COUNTYFP10','TRACTCE10','BLOCKCE10'],how = \"left\")"
   ]
  },
  {
   "cell_type": "code",
   "execution_count": 40,
   "metadata": {},
   "outputs": [],
   "source": [
    "merged_final = pd.merge(merged_final,df_2021,on=['COUNTYFP20','TRACTCE20','BLOCKCE20'])"
   ]
  },
  {
   "cell_type": "code",
   "execution_count": 41,
   "metadata": {},
   "outputs": [],
   "source": [
    "merged_final['STATEFP20'] = 36"
   ]
  },
  {
   "cell_type": "code",
   "execution_count": 52,
   "metadata": {},
   "outputs": [],
   "source": [
    "merged_final = merged_final.drop(columns = ['COUNTYFP10','TRACTCE10','BLOCKCE10'])"
   ]
  },
  {
   "cell_type": "code",
   "execution_count": 59,
   "metadata": {},
   "outputs": [],
   "source": [
    "desired_columns = ['STATEFP20', 'COUNTYFP20', 'TRACTCE20', 'BLOCKCE20', 'GEOID20','INTPTLAT20', 'INTPTLON20', 'ALAND20'\n",
    "       , 'pop_2013', 'mean_age_2013', 'mean_income_2013',\n",
    "       'pop_2014', 'mean_age_2014', 'mean_income_2014', 'pop_2015',\n",
    "       'mean_age_2015', 'mean_income_2015', 'pop_2016', 'mean_age_2016',\n",
    "       'mean_income_2016', 'pop_2017', 'mean_age_2017', 'mean_income_2017',\n",
    "       'pop_2018', 'mean_age_2018', 'mean_income_2018', 'pop_2019',\n",
    "       'mean_age_2019', 'mean_income_2019', 'pop_2020', 'mean_age_2020',\n",
    "       'mean_income_2020', 'pop_2021', 'mean_age_2021',\n",
    "       'mean_income_2021']"
   ]
  },
  {
   "cell_type": "code",
   "execution_count": 60,
   "metadata": {},
   "outputs": [],
   "source": [
    "merged_final = merged_final[desired_columns]"
   ]
  },
  {
   "cell_type": "code",
   "execution_count": 46,
   "metadata": {},
   "outputs": [],
   "source": [
    "merged_final.to_excel('final_merged.xlsx',index = False)"
   ]
  }
 ],
 "metadata": {
  "kernelspec": {
   "display_name": "base",
   "language": "python",
   "name": "python3"
  },
  "language_info": {
   "codemirror_mode": {
    "name": "ipython",
    "version": 3
   },
   "file_extension": ".py",
   "mimetype": "text/x-python",
   "name": "python",
   "nbconvert_exporter": "python",
   "pygments_lexer": "ipython3",
   "version": "3.11.4"
  }
 },
 "nbformat": 4,
 "nbformat_minor": 2
}
