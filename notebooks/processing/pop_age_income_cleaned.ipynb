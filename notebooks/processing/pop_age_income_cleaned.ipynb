{
 "cells": [
  {
   "cell_type": "markdown",
   "metadata": {},
   "source": [
    "## This notebook generates a dataframe containing the geographic data along with population, age and income, from the American Community survey 5 year estimate data, for a given year"
   ]
  },
  {
   "cell_type": "code",
   "execution_count": null,
   "metadata": {},
   "outputs": [],
   "source": [
    "# set year here\n",
    "year =2020\n",
    "sex_and_age_filename = f'ACSDT5Y{year}.B01001-Data.csv'"
   ]
  },
  {
   "cell_type": "code",
   "execution_count": null,
   "metadata": {},
   "outputs": [],
   "source": [
    "# load the ACS age data\n",
    "\n",
    "import pandas as pd\n",
    "sex_and_age_2020_raw_manhattan = pd.read_csv(sex_and_age_filename)\n",
    "sex_and_age_2020_raw_brooklyn = pd.read_csv(f'../bk_sex_and_age_block_group_level_2021_to_13/{sex_and_age_filename}')\n",
    "sex_and_age_2020_raw_queens = pd.read_csv(f'../queens_sex_by_age/{sex_and_age_filename}')\n",
    "sex_and_age_2020_raw_bronx = pd.read_csv(f'../bronx_sex_by_age/{sex_and_age_filename}')\n",
    "sex_and_age_2020_raw_staten = pd.read_csv(f'../staten_sex_by_age/{sex_and_age_filename}')\n",
    "concat_df = pd.concat([sex_and_age_2020_raw_manhattan, sex_and_age_2020_raw_brooklyn,sex_and_age_2020_raw_queens\n",
    "                       ,sex_and_age_2020_raw_bronx,sex_and_age_2020_raw_staten], ignore_index=True)\n",
    "\n",
    "#clean the dataframe\n",
    "concat_df.columns = concat_df.iloc[0]\n",
    "concat_df = concat_df[1:]\n",
    "concat_df.reset_index(drop = True, inplace =True)\n",
    "concat_df_filt = concat_df.filter(like='Estimate', axis=1)\n",
    "concat_df_filt['GEO_ID'] = concat_df['Geography']\n",
    "concat_df_filt['GEO_ID'] = concat_df_filt['GEO_ID'].str[-12:]"
   ]
  },
  {
   "cell_type": "code",
   "execution_count": 4,
   "metadata": {},
   "outputs": [],
   "source": [
    "income_filename = f'ACSDT5Y{year}.B19001-Data.csv'"
   ]
  },
  {
   "cell_type": "code",
   "execution_count": 5,
   "metadata": {},
   "outputs": [],
   "source": [
    "# load the ACS income data(change the year in the filename accordingly)\n",
    "manhattan = pd.read_csv(f'for_income/2021_to_13/{income_filename}')\n",
    "brooklyn = pd.read_csv(f'for_income/bk_2021_to_13/{income_filename}')\n",
    "queens = pd.read_csv(f'for_income/queens_2021_to_13/{income_filename}')\n",
    "bronx = pd.read_csv(f'for_income/bronx_2021_to_13/{income_filename}')\n",
    "staten = pd.read_csv(f'for_income/staten_2021_to_13/{income_filename}')\n",
    "\n",
    "#clean the dataframe\n",
    "income_df = pd.concat([manhattan, brooklyn,queens,bronx,staten], ignore_index=True)\n",
    "income_df.columns = income_df.iloc[0]\n",
    "income_df = income_df[1:]\n",
    "income_df.reset_index(drop = True, inplace =True)\n",
    "income_df_filt = income_df.filter(like='Estimate', axis=1)"
   ]
  },
  {
   "cell_type": "code",
   "execution_count": null,
   "metadata": {},
   "outputs": [],
   "source": [
    "#compute mean income\n",
    "\n",
    "for col in income_df_filt.columns:\n",
    "    income_df_filt[col] = pd.to_numeric(income_df_filt[col], errors='coerce')\n",
    "\n",
    "income_df_filt_2 = income_df_filt[income_df_filt.columns].astype('float64')\n",
    "income_df_filt_2 = income_df_filt_2.drop(income_df_filt_2.columns[0], axis = 1)\n",
    "income_values = [5000,12500,17500,22500,27500,32500,37500,42500,47500,55000,67500,85000,112500,137500,175000,200000]\n",
    "mean_incomes = (income_df_filt_2 * income_values).sum(axis=1) / income_df_filt_2.sum(axis=1)\n",
    "income_df_filt_2['mean_income'] = mean_incomes"
   ]
  },
  {
   "cell_type": "code",
   "execution_count": 8,
   "metadata": {},
   "outputs": [],
   "source": [
    "#geo id column is needed for joining with the age dataset\n",
    "income_df_filt_2['GEO_ID'] = income_df['Geography']\n",
    "income_df_filt_2['GEO_ID'] = income_df_filt_2['GEO_ID'].str[-12:]"
   ]
  },
  {
   "cell_type": "code",
   "execution_count": 9,
   "metadata": {},
   "outputs": [],
   "source": [
    "income_df_filt_final = income_df_filt_2[['mean_income','GEO_ID']]"
   ]
  },
  {
   "cell_type": "code",
   "execution_count": 11,
   "metadata": {},
   "outputs": [],
   "source": [
    "income_pop_age = pd.merge(concat_df_filt,income_df_filt_final, on='GEO_ID')"
   ]
  },
  {
   "cell_type": "code",
   "execution_count": 13,
   "metadata": {},
   "outputs": [],
   "source": [
    "#load TIGER dataset at the block group level.(change the year in the filename accordingly)\n",
    "tiger_extract_2020_bg = pd.read_excel(f'../TIGER/{year}_all_boro_bg.xlsx')\n",
    "tiger_extract_2020_bg.rename(columns={'GEOID': 'GEO_ID'}, inplace=True)\n",
    "tiger_extract_2020_bg['GEO_ID'] = tiger_extract_2020_bg['GEO_ID'].astype(str)\n",
    "tiger_extract_2020_bg['GEO_ID'] = tiger_extract_2020_bg['GEO_ID'].str[-12:]\n",
    "merged_df = pd.merge(income_pop_age, tiger_extract_2020_bg, on='GEO_ID')"
   ]
  },
  {
   "cell_type": "code",
   "execution_count": 14,
   "metadata": {},
   "outputs": [],
   "source": [
    "#hardcoded value of year, change it while running the notebook\n",
    "merged_df['Year'] = year"
   ]
  },
  {
   "cell_type": "code",
   "execution_count": 15,
   "metadata": {},
   "outputs": [],
   "source": [
    "#compute male mean age\n",
    "# remove the ':' from the substring for 2013-18\n",
    "ages = [2.5, 7, 12, 16, 18.5,20,21,23,27,32,37,42,47,52,57,60.5,63,65.5,68,72,77,82,85]\n",
    "\n",
    "substring = 'Estimate!!Total:!!Male:!!'\n",
    "filtered_columns_male = [col for col in merged_df.columns if substring in col]\n",
    "merged_df_male_ages =merged_df[filtered_columns_male].astype('float64')\n",
    "non_zero_rows = merged_df_male_ages.sum(axis=1) != 0\n",
    "df_filtered = merged_df_male_ages[non_zero_rows]\n",
    "mean_ages = (df_filtered * ages).sum(axis=1) / df_filtered.sum(axis=1)\n",
    "merged_df['male_mean_age']  = mean_ages\n",
    "merged_df['total_male_pop'] =  df_filtered.sum(axis=1)\n",
    "\n"
   ]
  },
  {
   "cell_type": "code",
   "execution_count": 16,
   "metadata": {},
   "outputs": [],
   "source": [
    "#compute female mean age\n",
    "# remove the ':' from the substring for 2013-18\n",
    "filter_string_female = 'Estimate!!Total:!!Female:!!'\n",
    "filtered_columns_female = [col for col in merged_df.columns if filter_string_female in col]\n",
    "merged_df_female_ages =merged_df[filtered_columns_female].astype('float64')\n",
    "non_zero_rows_female = merged_df_female_ages.sum(axis=1) != 0\n",
    "df_filtered_female = merged_df_female_ages[non_zero_rows_female]\n",
    "mean_ages_female = (df_filtered_female * ages).sum(axis=1) / df_filtered_female.sum(axis=1)\n",
    "merged_df['female_mean_age']  = mean_ages_female\n",
    "merged_df['total_female_pop'] =  df_filtered_female.sum(axis=1)"
   ]
  },
  {
   "cell_type": "code",
   "execution_count": 17,
   "metadata": {},
   "outputs": [],
   "source": [
    "#compute total population and overall mean age\n",
    "merged_df['total_pop'] = df_filtered_female.sum(axis=1) + df_filtered.sum(axis=1)\n",
    "merged_df['mean_age'] = ((df_filtered_female * ages).sum(axis=1) + (df_filtered * ages).sum(axis=1))/(df_filtered.sum(axis=1)+df_filtered_female.sum(axis=1))"
   ]
  },
  {
   "cell_type": "code",
   "execution_count": 18,
   "metadata": {},
   "outputs": [],
   "source": [
    "desired_columns = ['GEO_ID','STATEFP','COUNTYFP','TRACTCE','BLKGRPCE','ALAND','INTPTLAT','INTPTLON','Year','male_mean_age','female_mean_age','mean_age','total_male_pop','total_female_pop','total_pop','mean_income']"
   ]
  },
  {
   "cell_type": "code",
   "execution_count": 19,
   "metadata": {},
   "outputs": [],
   "source": [
    "merged_df_final = merged_df[desired_columns]"
   ]
  },
  {
   "cell_type": "code",
   "execution_count": 22,
   "metadata": {},
   "outputs": [],
   "source": [
    "#load TIGER block level data (change variable name accordingly - TIGER block level data is available only for the 2010 and 2020 census)\n",
    "#use 2010 data for 2013-19 and 2020 data for 2020 and 2021\n",
    "#block_2015 = pd.read_excel('../TIGER/2010_BLOCK.xlsx')\n",
    "block_2015 = pd.read_excel('../TIGER/2020_all_boro_block.xlsx')"
   ]
  },
  {
   "cell_type": "code",
   "execution_count": 23,
   "metadata": {},
   "outputs": [],
   "source": [
    "#joined_2021 = pd.merge(block_2015, merged_df_final, left_on=['COUNTYFP10', 'TRACTCE10'], right_on=['COUNTYFP', 'TRACTCE'])\n",
    "joined_2021 = pd.merge(block_2015, merged_df_final, left_on=['COUNTYFP20', 'TRACTCE20'], right_on=['COUNTYFP', 'TRACTCE'])"
   ]
  },
  {
   "cell_type": "code",
   "execution_count": 24,
   "metadata": {},
   "outputs": [],
   "source": [
    "# use the first line for 2013-19, second line for 2020 and 21\n",
    "\n",
    "#final_1 = joined_2021.drop_duplicates(subset='GEOID10', keep='first')\n",
    "final_1 = joined_2021.drop_duplicates(subset='GEOID20', keep='first')"
   ]
  },
  {
   "cell_type": "code",
   "execution_count": null,
   "metadata": {},
   "outputs": [],
   "source": [
    "final_1.rename(columns = {'total_pop':f'pop_{year}','mean_age':f'mean_age_{year}'\n",
    "                          ,'mean_income':f'mean_income_{year}'}, inplace = True)"
   ]
  },
  {
   "cell_type": "code",
   "execution_count": 26,
   "metadata": {},
   "outputs": [],
   "source": [
    "#use the first line for 2013-19 and next line for 2020-21\n",
    "#final_result = final_1[['COUNTYFP10','TRACTCE10','BLOCKCE10','ALAND10','INTPTLAT10','INTPTLON10',f'pop_{year}',f'mean_age_{year}',f'mean_income_{year}']]\n",
    "final_result = final_1[['COUNTYFP20','TRACTCE20','BLOCKCE20','ALAND20','INTPTLAT20','INTPTLON20','GEOID20',f'pop_{year}',f'mean_age_{year}',f'mean_income_{year}']]"
   ]
  },
  {
   "cell_type": "code",
   "execution_count": null,
   "metadata": {},
   "outputs": [],
   "source": [
    "final_result"
   ]
  },
  {
   "cell_type": "code",
   "execution_count": 28,
   "metadata": {},
   "outputs": [],
   "source": [
    "final_result.to_excel(f'../6_dec_all_counties/pop_age_income_test_{year}.xlsx' , index=  False)"
   ]
  }
 ],
 "metadata": {
  "kernelspec": {
   "display_name": "base",
   "language": "python",
   "name": "python3"
  },
  "language_info": {
   "codemirror_mode": {
    "name": "ipython",
    "version": 3
   },
   "file_extension": ".py",
   "mimetype": "text/x-python",
   "name": "python",
   "nbconvert_exporter": "python",
   "pygments_lexer": "ipython3",
   "version": "3.11.4"
  }
 },
 "nbformat": 4,
 "nbformat_minor": 2
}
